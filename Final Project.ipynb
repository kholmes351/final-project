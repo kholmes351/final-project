{
 "cells": [
  {
   "cell_type": "code",
   "execution_count": 1,
   "id": "6b228876",
   "metadata": {},
   "outputs": [],
   "source": [
    "from IPython.core.interactiveshell import InteractiveShell\n",
    "InteractiveShell.ast_node_interactivity = \"all\"\n",
    "import pandas as pd\n",
    "import numpy as np\n",
    "import matplotlib.pyplot as plt"
   ]
  },
  {
   "cell_type": "code",
   "execution_count": 2,
   "id": "f576f69a",
   "metadata": {},
   "outputs": [
    {
     "data": {
      "text/html": [
       "<div>\n",
       "<style scoped>\n",
       "    .dataframe tbody tr th:only-of-type {\n",
       "        vertical-align: middle;\n",
       "    }\n",
       "\n",
       "    .dataframe tbody tr th {\n",
       "        vertical-align: top;\n",
       "    }\n",
       "\n",
       "    .dataframe thead th {\n",
       "        text-align: right;\n",
       "    }\n",
       "</style>\n",
       "<table border=\"1\" class=\"dataframe\">\n",
       "  <thead>\n",
       "    <tr style=\"text-align: right;\">\n",
       "      <th></th>\n",
       "      <th>Team</th>\n",
       "      <th>Average</th>\n",
       "    </tr>\n",
       "  </thead>\n",
       "  <tbody>\n",
       "    <tr>\n",
       "      <th>0</th>\n",
       "      <td>BOS</td>\n",
       "      <td>83192259.8</td>\n",
       "    </tr>\n",
       "    <tr>\n",
       "      <th>1</th>\n",
       "      <td>CAR</td>\n",
       "      <td>86766933.4</td>\n",
       "    </tr>\n",
       "    <tr>\n",
       "      <th>2</th>\n",
       "      <td>NJD</td>\n",
       "      <td>72747018.2</td>\n",
       "    </tr>\n",
       "    <tr>\n",
       "      <th>3</th>\n",
       "      <td>VGK</td>\n",
       "      <td>94988698.2</td>\n",
       "    </tr>\n",
       "    <tr>\n",
       "      <th>4</th>\n",
       "      <td>TOR</td>\n",
       "      <td>95864080.4</td>\n",
       "    </tr>\n",
       "    <tr>\n",
       "      <th>5</th>\n",
       "      <td>COL</td>\n",
       "      <td>88490197.8</td>\n",
       "    </tr>\n",
       "    <tr>\n",
       "      <th>6</th>\n",
       "      <td>EDM</td>\n",
       "      <td>91988427.0</td>\n",
       "    </tr>\n",
       "    <tr>\n",
       "      <th>7</th>\n",
       "      <td>DAL</td>\n",
       "      <td>93234576.2</td>\n",
       "    </tr>\n",
       "    <tr>\n",
       "      <th>8</th>\n",
       "      <td>NYR</td>\n",
       "      <td>84726312.2</td>\n",
       "    </tr>\n",
       "    <tr>\n",
       "      <th>9</th>\n",
       "      <td>LAK</td>\n",
       "      <td>75107803.8</td>\n",
       "    </tr>\n",
       "    <tr>\n",
       "      <th>10</th>\n",
       "      <td>MIN</td>\n",
       "      <td>84099192.2</td>\n",
       "    </tr>\n",
       "    <tr>\n",
       "      <th>11</th>\n",
       "      <td>SEA</td>\n",
       "      <td>76527603.5</td>\n",
       "    </tr>\n",
       "    <tr>\n",
       "      <th>12</th>\n",
       "      <td>TBL</td>\n",
       "      <td>102211444.2</td>\n",
       "    </tr>\n",
       "    <tr>\n",
       "      <th>13</th>\n",
       "      <td>WPG</td>\n",
       "      <td>86176274.4</td>\n",
       "    </tr>\n",
       "    <tr>\n",
       "      <th>14</th>\n",
       "      <td>CGY</td>\n",
       "      <td>89853280.8</td>\n",
       "    </tr>\n",
       "    <tr>\n",
       "      <th>15</th>\n",
       "      <td>NYI</td>\n",
       "      <td>89595529.2</td>\n",
       "    </tr>\n",
       "    <tr>\n",
       "      <th>16</th>\n",
       "      <td>FLA</td>\n",
       "      <td>85484075.6</td>\n",
       "    </tr>\n",
       "    <tr>\n",
       "      <th>17</th>\n",
       "      <td>NSH</td>\n",
       "      <td>87186047.2</td>\n",
       "    </tr>\n",
       "    <tr>\n",
       "      <th>18</th>\n",
       "      <td>BUF</td>\n",
       "      <td>76270319.4</td>\n",
       "    </tr>\n",
       "    <tr>\n",
       "      <th>19</th>\n",
       "      <td>PIT</td>\n",
       "      <td>88606071.8</td>\n",
       "    </tr>\n",
       "    <tr>\n",
       "      <th>20</th>\n",
       "      <td>OTT</td>\n",
       "      <td>63419907.2</td>\n",
       "    </tr>\n",
       "    <tr>\n",
       "      <th>21</th>\n",
       "      <td>VAN</td>\n",
       "      <td>80897623.2</td>\n",
       "    </tr>\n",
       "    <tr>\n",
       "      <th>22</th>\n",
       "      <td>STL</td>\n",
       "      <td>90965900.6</td>\n",
       "    </tr>\n",
       "    <tr>\n",
       "      <th>23</th>\n",
       "      <td>WAS</td>\n",
       "      <td>93046499.8</td>\n",
       "    </tr>\n",
       "    <tr>\n",
       "      <th>24</th>\n",
       "      <td>DET</td>\n",
       "      <td>67639456.0</td>\n",
       "    </tr>\n",
       "    <tr>\n",
       "      <th>25</th>\n",
       "      <td>PHI</td>\n",
       "      <td>84179276.4</td>\n",
       "    </tr>\n",
       "    <tr>\n",
       "      <th>26</th>\n",
       "      <td>ARI</td>\n",
       "      <td>74256791.2</td>\n",
       "    </tr>\n",
       "    <tr>\n",
       "      <th>27</th>\n",
       "      <td>MTL</td>\n",
       "      <td>84097351.4</td>\n",
       "    </tr>\n",
       "    <tr>\n",
       "      <th>28</th>\n",
       "      <td>SJS</td>\n",
       "      <td>90148530.0</td>\n",
       "    </tr>\n",
       "    <tr>\n",
       "      <th>29</th>\n",
       "      <td>CHI</td>\n",
       "      <td>74565254.4</td>\n",
       "    </tr>\n",
       "    <tr>\n",
       "      <th>30</th>\n",
       "      <td>CBJ</td>\n",
       "      <td>77014382.8</td>\n",
       "    </tr>\n",
       "    <tr>\n",
       "      <th>31</th>\n",
       "      <td>ANA</td>\n",
       "      <td>74806775.4</td>\n",
       "    </tr>\n",
       "  </tbody>\n",
       "</table>\n",
       "</div>"
      ],
      "text/plain": [
       "   Team     Average \n",
       "0   BOS   83192259.8\n",
       "1   CAR   86766933.4\n",
       "2   NJD   72747018.2\n",
       "3   VGK   94988698.2\n",
       "4   TOR   95864080.4\n",
       "5   COL   88490197.8\n",
       "6   EDM   91988427.0\n",
       "7   DAL   93234576.2\n",
       "8   NYR   84726312.2\n",
       "9   LAK   75107803.8\n",
       "10  MIN   84099192.2\n",
       "11  SEA   76527603.5\n",
       "12  TBL  102211444.2\n",
       "13  WPG   86176274.4\n",
       "14  CGY   89853280.8\n",
       "15  NYI   89595529.2\n",
       "16  FLA   85484075.6\n",
       "17  NSH   87186047.2\n",
       "18  BUF   76270319.4\n",
       "19  PIT   88606071.8\n",
       "20  OTT   63419907.2\n",
       "21  VAN   80897623.2\n",
       "22  STL   90965900.6\n",
       "23  WAS   93046499.8\n",
       "24  DET   67639456.0\n",
       "25  PHI   84179276.4\n",
       "26  ARI   74256791.2\n",
       "27  MTL   84097351.4\n",
       "28  SJS   90148530.0\n",
       "29  CHI   74565254.4\n",
       "30  CBJ   77014382.8\n",
       "31  ANA   74806775.4"
      ]
     },
     "execution_count": 2,
     "metadata": {},
     "output_type": "execute_result"
    },
    {
     "data": {
      "text/html": [
       "<div>\n",
       "<style scoped>\n",
       "    .dataframe tbody tr th:only-of-type {\n",
       "        vertical-align: middle;\n",
       "    }\n",
       "\n",
       "    .dataframe tbody tr th {\n",
       "        vertical-align: top;\n",
       "    }\n",
       "\n",
       "    .dataframe thead th {\n",
       "        text-align: right;\n",
       "    }\n",
       "</style>\n",
       "<table border=\"1\" class=\"dataframe\">\n",
       "  <thead>\n",
       "    <tr style=\"text-align: right;\">\n",
       "      <th></th>\n",
       "      <th>Team</th>\n",
       "      <th>Average</th>\n",
       "    </tr>\n",
       "  </thead>\n",
       "  <tbody>\n",
       "    <tr>\n",
       "      <th>0</th>\n",
       "      <td>BOS</td>\n",
       "      <td>0.646010</td>\n",
       "    </tr>\n",
       "    <tr>\n",
       "      <th>1</th>\n",
       "      <td>CAR</td>\n",
       "      <td>0.611068</td>\n",
       "    </tr>\n",
       "    <tr>\n",
       "      <th>2</th>\n",
       "      <td>NJD</td>\n",
       "      <td>0.417309</td>\n",
       "    </tr>\n",
       "    <tr>\n",
       "      <th>3</th>\n",
       "      <td>VGK</td>\n",
       "      <td>0.586863</td>\n",
       "    </tr>\n",
       "    <tr>\n",
       "      <th>4</th>\n",
       "      <td>TOR</td>\n",
       "      <td>0.593711</td>\n",
       "    </tr>\n",
       "    <tr>\n",
       "      <th>5</th>\n",
       "      <td>COL</td>\n",
       "      <td>0.612944</td>\n",
       "    </tr>\n",
       "    <tr>\n",
       "      <th>6</th>\n",
       "      <td>EDM</td>\n",
       "      <td>0.556055</td>\n",
       "    </tr>\n",
       "    <tr>\n",
       "      <th>7</th>\n",
       "      <td>DAL</td>\n",
       "      <td>0.521097</td>\n",
       "    </tr>\n",
       "    <tr>\n",
       "      <th>8</th>\n",
       "      <td>NYR</td>\n",
       "      <td>0.521655</td>\n",
       "    </tr>\n",
       "    <tr>\n",
       "      <th>9</th>\n",
       "      <td>LAK</td>\n",
       "      <td>0.455418</td>\n",
       "    </tr>\n",
       "    <tr>\n",
       "      <th>10</th>\n",
       "      <td>MIN</td>\n",
       "      <td>0.558157</td>\n",
       "    </tr>\n",
       "    <tr>\n",
       "      <th>11</th>\n",
       "      <td>SEA</td>\n",
       "      <td>0.445122</td>\n",
       "    </tr>\n",
       "    <tr>\n",
       "      <th>12</th>\n",
       "      <td>TBL</td>\n",
       "      <td>0.639233</td>\n",
       "    </tr>\n",
       "    <tr>\n",
       "      <th>13</th>\n",
       "      <td>WPG</td>\n",
       "      <td>0.533319</td>\n",
       "    </tr>\n",
       "    <tr>\n",
       "      <th>14</th>\n",
       "      <td>CGY</td>\n",
       "      <td>0.532300</td>\n",
       "    </tr>\n",
       "    <tr>\n",
       "      <th>15</th>\n",
       "      <td>NYI</td>\n",
       "      <td>0.526983</td>\n",
       "    </tr>\n",
       "    <tr>\n",
       "      <th>16</th>\n",
       "      <td>FLA</td>\n",
       "      <td>0.565299</td>\n",
       "    </tr>\n",
       "    <tr>\n",
       "      <th>17</th>\n",
       "      <td>NSH</td>\n",
       "      <td>0.538993</td>\n",
       "    </tr>\n",
       "    <tr>\n",
       "      <th>18</th>\n",
       "      <td>BUF</td>\n",
       "      <td>0.401504</td>\n",
       "    </tr>\n",
       "    <tr>\n",
       "      <th>19</th>\n",
       "      <td>PIT</td>\n",
       "      <td>0.565158</td>\n",
       "    </tr>\n",
       "    <tr>\n",
       "      <th>20</th>\n",
       "      <td>OTT</td>\n",
       "      <td>0.398907</td>\n",
       "    </tr>\n",
       "    <tr>\n",
       "      <th>21</th>\n",
       "      <td>VAN</td>\n",
       "      <td>0.462100</td>\n",
       "    </tr>\n",
       "    <tr>\n",
       "      <th>22</th>\n",
       "      <td>STL</td>\n",
       "      <td>0.534251</td>\n",
       "    </tr>\n",
       "    <tr>\n",
       "      <th>23</th>\n",
       "      <td>WAS</td>\n",
       "      <td>0.557168</td>\n",
       "    </tr>\n",
       "    <tr>\n",
       "      <th>24</th>\n",
       "      <td>DET</td>\n",
       "      <td>0.357208</td>\n",
       "    </tr>\n",
       "    <tr>\n",
       "      <th>25</th>\n",
       "      <td>PHI</td>\n",
       "      <td>0.434956</td>\n",
       "    </tr>\n",
       "    <tr>\n",
       "      <th>26</th>\n",
       "      <td>ARI</td>\n",
       "      <td>0.404390</td>\n",
       "    </tr>\n",
       "    <tr>\n",
       "      <th>27</th>\n",
       "      <td>MTL</td>\n",
       "      <td>0.409624</td>\n",
       "    </tr>\n",
       "    <tr>\n",
       "      <th>28</th>\n",
       "      <td>SJS</td>\n",
       "      <td>0.401760</td>\n",
       "    </tr>\n",
       "    <tr>\n",
       "      <th>29</th>\n",
       "      <td>CHI</td>\n",
       "      <td>0.396655</td>\n",
       "    </tr>\n",
       "    <tr>\n",
       "      <th>30</th>\n",
       "      <td>CBJ</td>\n",
       "      <td>0.424425</td>\n",
       "    </tr>\n",
       "    <tr>\n",
       "      <th>31</th>\n",
       "      <td>ANA</td>\n",
       "      <td>0.359478</td>\n",
       "    </tr>\n",
       "  </tbody>\n",
       "</table>\n",
       "</div>"
      ],
      "text/plain": [
       "   Team  Average \n",
       "0   BOS  0.646010\n",
       "1   CAR  0.611068\n",
       "2   NJD  0.417309\n",
       "3   VGK  0.586863\n",
       "4   TOR  0.593711\n",
       "5   COL  0.612944\n",
       "6   EDM  0.556055\n",
       "7   DAL  0.521097\n",
       "8   NYR  0.521655\n",
       "9   LAK  0.455418\n",
       "10  MIN  0.558157\n",
       "11  SEA  0.445122\n",
       "12  TBL  0.639233\n",
       "13  WPG  0.533319\n",
       "14  CGY  0.532300\n",
       "15  NYI  0.526983\n",
       "16  FLA  0.565299\n",
       "17  NSH  0.538993\n",
       "18  BUF  0.401504\n",
       "19  PIT  0.565158\n",
       "20  OTT  0.398907\n",
       "21  VAN  0.462100\n",
       "22  STL  0.534251\n",
       "23  WAS  0.557168\n",
       "24  DET  0.357208\n",
       "25  PHI  0.434956\n",
       "26  ARI  0.404390\n",
       "27  MTL  0.409624\n",
       "28  SJS  0.401760\n",
       "29  CHI  0.396655\n",
       "30  CBJ  0.424425\n",
       "31  ANA  0.359478"
      ]
     },
     "execution_count": 2,
     "metadata": {},
     "output_type": "execute_result"
    }
   ],
   "source": [
    "NHL_team_spending = pd.read_csv(\"NHL Total spending.csv\", header=0)\n",
    "NHL_team_spending\n",
    "NHL_winning_percent = pd.read_csv(\"NHL Team winning percent.csv\", header=0)\n",
    "NHL_winning_percent"
   ]
  },
  {
   "cell_type": "code",
   "execution_count": 3,
   "id": "cb2a11c8",
   "metadata": {},
   "outputs": [
    {
     "data": {
      "text/html": [
       "<div>\n",
       "<style scoped>\n",
       "    .dataframe tbody tr th:only-of-type {\n",
       "        vertical-align: middle;\n",
       "    }\n",
       "\n",
       "    .dataframe tbody tr th {\n",
       "        vertical-align: top;\n",
       "    }\n",
       "\n",
       "    .dataframe thead th {\n",
       "        text-align: right;\n",
       "    }\n",
       "</style>\n",
       "<table border=\"1\" class=\"dataframe\">\n",
       "  <thead>\n",
       "    <tr style=\"text-align: right;\">\n",
       "      <th></th>\n",
       "      <th>Average _x</th>\n",
       "      <th>Average _y</th>\n",
       "    </tr>\n",
       "    <tr>\n",
       "      <th>Team</th>\n",
       "      <th></th>\n",
       "      <th></th>\n",
       "    </tr>\n",
       "  </thead>\n",
       "  <tbody>\n",
       "    <tr>\n",
       "      <th>BOS</th>\n",
       "      <td>83192259.8</td>\n",
       "      <td>0.646010</td>\n",
       "    </tr>\n",
       "    <tr>\n",
       "      <th>CAR</th>\n",
       "      <td>86766933.4</td>\n",
       "      <td>0.611068</td>\n",
       "    </tr>\n",
       "    <tr>\n",
       "      <th>NJD</th>\n",
       "      <td>72747018.2</td>\n",
       "      <td>0.417309</td>\n",
       "    </tr>\n",
       "    <tr>\n",
       "      <th>VGK</th>\n",
       "      <td>94988698.2</td>\n",
       "      <td>0.586863</td>\n",
       "    </tr>\n",
       "    <tr>\n",
       "      <th>TOR</th>\n",
       "      <td>95864080.4</td>\n",
       "      <td>0.593711</td>\n",
       "    </tr>\n",
       "    <tr>\n",
       "      <th>COL</th>\n",
       "      <td>88490197.8</td>\n",
       "      <td>0.612944</td>\n",
       "    </tr>\n",
       "    <tr>\n",
       "      <th>EDM</th>\n",
       "      <td>91988427.0</td>\n",
       "      <td>0.556055</td>\n",
       "    </tr>\n",
       "    <tr>\n",
       "      <th>DAL</th>\n",
       "      <td>93234576.2</td>\n",
       "      <td>0.521097</td>\n",
       "    </tr>\n",
       "    <tr>\n",
       "      <th>NYR</th>\n",
       "      <td>84726312.2</td>\n",
       "      <td>0.521655</td>\n",
       "    </tr>\n",
       "    <tr>\n",
       "      <th>LAK</th>\n",
       "      <td>75107803.8</td>\n",
       "      <td>0.455418</td>\n",
       "    </tr>\n",
       "    <tr>\n",
       "      <th>MIN</th>\n",
       "      <td>84099192.2</td>\n",
       "      <td>0.558157</td>\n",
       "    </tr>\n",
       "    <tr>\n",
       "      <th>SEA</th>\n",
       "      <td>76527603.5</td>\n",
       "      <td>0.445122</td>\n",
       "    </tr>\n",
       "    <tr>\n",
       "      <th>TBL</th>\n",
       "      <td>102211444.2</td>\n",
       "      <td>0.639233</td>\n",
       "    </tr>\n",
       "    <tr>\n",
       "      <th>WPG</th>\n",
       "      <td>86176274.4</td>\n",
       "      <td>0.533319</td>\n",
       "    </tr>\n",
       "    <tr>\n",
       "      <th>CGY</th>\n",
       "      <td>89853280.8</td>\n",
       "      <td>0.532300</td>\n",
       "    </tr>\n",
       "    <tr>\n",
       "      <th>NYI</th>\n",
       "      <td>89595529.2</td>\n",
       "      <td>0.526983</td>\n",
       "    </tr>\n",
       "    <tr>\n",
       "      <th>FLA</th>\n",
       "      <td>85484075.6</td>\n",
       "      <td>0.565299</td>\n",
       "    </tr>\n",
       "    <tr>\n",
       "      <th>NSH</th>\n",
       "      <td>87186047.2</td>\n",
       "      <td>0.538993</td>\n",
       "    </tr>\n",
       "    <tr>\n",
       "      <th>BUF</th>\n",
       "      <td>76270319.4</td>\n",
       "      <td>0.401504</td>\n",
       "    </tr>\n",
       "    <tr>\n",
       "      <th>PIT</th>\n",
       "      <td>88606071.8</td>\n",
       "      <td>0.565158</td>\n",
       "    </tr>\n",
       "    <tr>\n",
       "      <th>OTT</th>\n",
       "      <td>63419907.2</td>\n",
       "      <td>0.398907</td>\n",
       "    </tr>\n",
       "    <tr>\n",
       "      <th>VAN</th>\n",
       "      <td>80897623.2</td>\n",
       "      <td>0.462100</td>\n",
       "    </tr>\n",
       "    <tr>\n",
       "      <th>STL</th>\n",
       "      <td>90965900.6</td>\n",
       "      <td>0.534251</td>\n",
       "    </tr>\n",
       "    <tr>\n",
       "      <th>WAS</th>\n",
       "      <td>93046499.8</td>\n",
       "      <td>0.557168</td>\n",
       "    </tr>\n",
       "    <tr>\n",
       "      <th>DET</th>\n",
       "      <td>67639456.0</td>\n",
       "      <td>0.357208</td>\n",
       "    </tr>\n",
       "    <tr>\n",
       "      <th>PHI</th>\n",
       "      <td>84179276.4</td>\n",
       "      <td>0.434956</td>\n",
       "    </tr>\n",
       "    <tr>\n",
       "      <th>ARI</th>\n",
       "      <td>74256791.2</td>\n",
       "      <td>0.404390</td>\n",
       "    </tr>\n",
       "    <tr>\n",
       "      <th>MTL</th>\n",
       "      <td>84097351.4</td>\n",
       "      <td>0.409624</td>\n",
       "    </tr>\n",
       "    <tr>\n",
       "      <th>SJS</th>\n",
       "      <td>90148530.0</td>\n",
       "      <td>0.401760</td>\n",
       "    </tr>\n",
       "    <tr>\n",
       "      <th>CHI</th>\n",
       "      <td>74565254.4</td>\n",
       "      <td>0.396655</td>\n",
       "    </tr>\n",
       "    <tr>\n",
       "      <th>CBJ</th>\n",
       "      <td>77014382.8</td>\n",
       "      <td>0.424425</td>\n",
       "    </tr>\n",
       "    <tr>\n",
       "      <th>ANA</th>\n",
       "      <td>74806775.4</td>\n",
       "      <td>0.359478</td>\n",
       "    </tr>\n",
       "  </tbody>\n",
       "</table>\n",
       "</div>"
      ],
      "text/plain": [
       "       Average _x  Average _y\n",
       "Team                         \n",
       "BOS    83192259.8    0.646010\n",
       "CAR    86766933.4    0.611068\n",
       "NJD    72747018.2    0.417309\n",
       "VGK    94988698.2    0.586863\n",
       "TOR    95864080.4    0.593711\n",
       "COL    88490197.8    0.612944\n",
       "EDM    91988427.0    0.556055\n",
       "DAL    93234576.2    0.521097\n",
       "NYR    84726312.2    0.521655\n",
       "LAK    75107803.8    0.455418\n",
       "MIN    84099192.2    0.558157\n",
       "SEA    76527603.5    0.445122\n",
       "TBL   102211444.2    0.639233\n",
       "WPG    86176274.4    0.533319\n",
       "CGY    89853280.8    0.532300\n",
       "NYI    89595529.2    0.526983\n",
       "FLA    85484075.6    0.565299\n",
       "NSH    87186047.2    0.538993\n",
       "BUF    76270319.4    0.401504\n",
       "PIT    88606071.8    0.565158\n",
       "OTT    63419907.2    0.398907\n",
       "VAN    80897623.2    0.462100\n",
       "STL    90965900.6    0.534251\n",
       "WAS    93046499.8    0.557168\n",
       "DET    67639456.0    0.357208\n",
       "PHI    84179276.4    0.434956\n",
       "ARI    74256791.2    0.404390\n",
       "MTL    84097351.4    0.409624\n",
       "SJS    90148530.0    0.401760\n",
       "CHI    74565254.4    0.396655\n",
       "CBJ    77014382.8    0.424425\n",
       "ANA    74806775.4    0.359478"
      ]
     },
     "execution_count": 3,
     "metadata": {},
     "output_type": "execute_result"
    }
   ],
   "source": [
    "NHL_spending_winning = pd.merge(NHL_team_spending,NHL_winning_percent, on='Team')\n",
    "NHL_spending_winning.set_index('Team', inplace=True)\n",
    "NHL_spending_winning"
   ]
  },
  {
   "cell_type": "code",
   "execution_count": 4,
   "id": "4b9602dd",
   "metadata": {},
   "outputs": [],
   "source": [
    "NHL_spending_winning = pd.DataFrame(NHL_spending_winning)"
   ]
  },
  {
   "cell_type": "code",
   "execution_count": 5,
   "id": "86e97cf3",
   "metadata": {},
   "outputs": [
    {
     "data": {
      "text/plain": [
       "<matplotlib.collections.PathCollection at 0x1a055887150>"
      ]
     },
     "execution_count": 5,
     "metadata": {},
     "output_type": "execute_result"
    },
    {
     "data": {
      "text/plain": [
       "[<matplotlib.lines.Line2D at 0x1a055887250>]"
      ]
     },
     "execution_count": 5,
     "metadata": {},
     "output_type": "execute_result"
    },
    {
     "data": {
      "text/plain": [
       "Text(0.5, 0, 'Average Team Spending')"
      ]
     },
     "execution_count": 5,
     "metadata": {},
     "output_type": "execute_result"
    },
    {
     "data": {
      "text/plain": [
       "Text(0, 0.5, 'Average Winning Percentage')"
      ]
     },
     "execution_count": 5,
     "metadata": {},
     "output_type": "execute_result"
    },
    {
     "data": {
      "text/plain": [
       "Text(0.5, 1.0, 'NHL Team Spending vs. Winning Percentage')"
      ]
     },
     "execution_count": 5,
     "metadata": {},
     "output_type": "execute_result"
    },
    {
     "data": {
      "image/png": "[encoded data removed]",
      "text/plain": [
       "<Figure size 640x480 with 1 Axes>"
      ]
     },
     "metadata": {},
     "output_type": "display_data"
    },
    {
     "data": {
      "text/plain": [
       "<Figure size 640x480 with 0 Axes>"
      ]
     },
     "metadata": {},
     "output_type": "display_data"
    }
   ],
   "source": [
    "from scipy.optimize import curve_fit\n",
    "\n",
    "NHL_spending_winning = pd.merge(NHL_team_spending, NHL_winning_percent, on='Team')\n",
    "NHL_spending_winning.set_index('Team', inplace=True)\n",
    "\n",
    "x_data = NHL_spending_winning['Average _x']\n",
    "y_data = NHL_spending_winning['Average _y']\n",
    "\n",
    "team_colors = {\n",
    "    'BOS': '#FFB81C',\n",
    "    'CAR': '#CE1126',\n",
    "    'NJD': '#CE1126',\n",
    "    'VGK': '#B4975A',\n",
    "    'TOR': '#00205B',\n",
    "    'COL': '#6F263D',\n",
    "    'EDM': '#041E42',\n",
    "    'DAL': '#006847',\n",
    "    'NYR': '#0038A8',\n",
    "    'LAK': '#111111',\n",
    "    'MIN': '#A6192E',\n",
    "    'SEA': '#001628',\n",
    "    'TBL': '#002868',\n",
    "    'WPG': '#041E42',\n",
    "    'CGY': '#FAAF19',\n",
    "    'NYI': '#00539B',\n",
    "    'FLA': '#B9975B',\n",
    "    'NSH': '#FFB81C',\n",
    "    'BUF': '#003087',\n",
    "    'PIT': '#000000',\n",
    "    'OTT': '#DA1A32',\n",
    "    'VAN': '#00205B',\n",
    "    'STL': '#002F87',\n",
    "    'WAS': '#041E42',\n",
    "    'DET': '#CE1126',\n",
    "    'PHI': '#F74902',\n",
    "    'ARI': '#8C2633',\n",
    "    'MTL': '#AF1E2D',\n",
    "    'SJS': '#006D75',\n",
    "    'CHI': '#CF0A2C',\n",
    "    'CBJ': '#002654',\n",
    "    'ANA': '#F47A38',\n",
    "    \n",
    "}\n",
    "\n",
    "\n",
    "def quadratic_func(x, a, b, c):\n",
    "    return a * x**2 + b * x + c\n",
    "\n",
    "params, _ = curve_fit(quadratic_func, x_data, y_data)\n",
    "\n",
    "x_curve = np.linspace(min(x_data), max(x_data), 100)\n",
    "y_curve = quadratic_func(x_curve, *params)\n",
    "\n",
    "plt.scatter(x_data, y_data, c=[team_colors.get(team, '#000000') for team in NHL_spending_winning.index], label='Data')\n",
    "\n",
    "plt.plot(x_curve, y_curve, color='black', linestyle='--', label='Quadratic Fit')\n",
    "\n",
    "plt.xlabel('Average Team Spending')\n",
    "plt.ylabel('Average Winning Percentage')\n",
    "plt.title('NHL Team Spending vs. Winning Percentage')\n",
    "plt.grid(True)\n",
    "plt.show()\n",
    "\n",
    "plt.savefig('NHL_spending_winning_chart.png', format='png')"
   ]
  },
  {
   "cell_type": "code",
   "execution_count": 22,
   "id": "3c3a3d34",
   "metadata": {},
   "outputs": [
    {
     "data": {
      "text/plain": [
       "<Figure size 1000x500 with 0 Axes>"
      ]
     },
     "execution_count": 22,
     "metadata": {},
     "output_type": "execute_result"
    },
    {
     "data": {
      "text/plain": [
       "<Axes: xlabel='Payroll', ylabel='Wpercent'>"
      ]
     },
     "execution_count": 22,
     "metadata": {},
     "output_type": "execute_result"
    },
    {
     "data": {
      "text/plain": [
       "Text(104383200, 0.56097561, '2018')"
      ]
     },
     "execution_count": 22,
     "metadata": {},
     "output_type": "execute_result"
    },
    {
     "data": {
      "text/plain": [
       "Text(95221620, 0.414285714, '2019')"
      ]
     },
     "execution_count": 22,
     "metadata": {},
     "output_type": "execute_result"
    },
    {
     "data": {
      "text/plain": [
       "Text(86639546, 0.375, '2020')"
      ]
     },
     "execution_count": 22,
     "metadata": {},
     "output_type": "execute_result"
    },
    {
     "data": {
      "text/plain": [
       "Text(86010768, 0.390243902, '2021')"
      ]
     },
     "execution_count": 22,
     "metadata": {},
     "output_type": "execute_result"
    },
    {
     "data": {
      "text/plain": [
       "Text(78487516, 0.268292683, '2022')"
      ]
     },
     "execution_count": 22,
     "metadata": {},
     "output_type": "execute_result"
    },
    {
     "data": {
      "text/plain": [
       "Text(0.5, 0, 'SJS Payroll')"
      ]
     },
     "execution_count": 22,
     "metadata": {},
     "output_type": "execute_result"
    },
    {
     "data": {
      "text/plain": [
       "Text(0, 0.5, 'SJS Winning Percentage')"
      ]
     },
     "execution_count": 22,
     "metadata": {},
     "output_type": "execute_result"
    },
    {
     "data": {
      "text/plain": [
       "Text(0.5, 1.0, 'SJS Payroll vs. Winning Percentage Over Seasons')"
      ]
     },
     "execution_count": 22,
     "metadata": {},
     "output_type": "execute_result"
    },
    {
     "data": {
      "image/png": "[encoded data removed]",
      "text/plain": [
       "<Figure size 1000x500 with 1 Axes>"
      ]
     },
     "metadata": {},
     "output_type": "display_data"
    }
   ],
   "source": [
    "SJS_payroll = {\n",
    "    'Team': ['SJS'],\n",
    "    '2022': [78487516],\n",
    "    '2021': [86010768],\n",
    "    '2020': [86639546],\n",
    "    '2019': [95221620],\n",
    "    '2018': [104383200]\n",
    "}\n",
    "\n",
    "SJS_Wpercent = {\n",
    "    'Team': ['SJS'],\n",
    "    '2022': [0.268292683],\n",
    "    '2021': [0.390243902],\n",
    "    '2020': [0.375],\n",
    "    '2019': [0.414285714],\n",
    "    '2018': [0.56097561]\n",
    "}\n",
    "\n",
    "df1 = pd.DataFrame(SJS_payroll)\n",
    "df2 = pd.DataFrame(SJS_Wpercent)\n",
    "\n",
    "df1.set_index('Team', inplace=True)\n",
    "df2.set_index('Team', inplace=True)\n",
    "\n",
    "df1 = df1.transpose()\n",
    "df2 = df2.transpose()\n",
    "\n",
    "df1.columns = ['Payroll']\n",
    "df2.columns = ['Wpercent']\n",
    "\n",
    "df = pd.merge(df1, df2, left_index=True, right_index=True)\n",
    "\n",
    "df = df.iloc[::-1]\n",
    "\n",
    "plt.figure(figsize=(10, 5))\n",
    "sns.scatterplot(data=df, x='Payroll', y='Wpercent', s=100)\n",
    "\n",
    "for i in range(len(df)):\n",
    "    plt.text(df['Payroll'][i], df['Wpercent'][i], df.index[i], fontsize=9, ha='right')\n",
    "\n",
    "plt.xlabel('SJS Payroll')\n",
    "plt.ylabel('SJS Winning Percentage')\n",
    "plt.title('SJS Payroll vs. Winning Percentage Over Seasons')\n",
    "\n",
    "plt.grid(True)\n",
    "plt.show()\n"
   ]
  },
  {
   "cell_type": "code",
   "execution_count": 25,
   "id": "c0a4a33c",
   "metadata": {},
   "outputs": [
    {
     "data": {
      "text/plain": [
       "<Figure size 1000x500 with 0 Axes>"
      ]
     },
     "execution_count": 25,
     "metadata": {},
     "output_type": "execute_result"
    },
    {
     "data": {
      "text/plain": [
       "<Axes: xlabel='Payroll', ylabel='Wpercent'>"
      ]
     },
     "execution_count": 25,
     "metadata": {},
     "output_type": "execute_result"
    },
    {
     "data": {
      "text/plain": [
       "Text(83377006, 0.597560976, '2018')"
      ]
     },
     "execution_count": 25,
     "metadata": {},
     "output_type": "execute_result"
    },
    {
     "data": {
      "text/plain": [
       "Text(75754650, 0.628571429, '2019')"
      ]
     },
     "execution_count": 25,
     "metadata": {},
     "output_type": "execute_result"
    },
    {
     "data": {
      "text/plain": [
       "Text(78198128, 0.589285714, '2020')"
      ]
     },
     "execution_count": 25,
     "metadata": {},
     "output_type": "execute_result"
    },
    {
     "data": {
      "text/plain": [
       "Text(84501102, 0.62195122, '2021')"
      ]
     },
     "execution_count": 25,
     "metadata": {},
     "output_type": "execute_result"
    },
    {
     "data": {
      "text/plain": [
       "Text(94130413, 0.792682927, '2022')"
      ]
     },
     "execution_count": 25,
     "metadata": {},
     "output_type": "execute_result"
    },
    {
     "data": {
      "text/plain": [
       "Text(0.5, 0, 'BOS Payroll')"
      ]
     },
     "execution_count": 25,
     "metadata": {},
     "output_type": "execute_result"
    },
    {
     "data": {
      "text/plain": [
       "Text(0, 0.5, 'BOS Winning Percentage')"
      ]
     },
     "execution_count": 25,
     "metadata": {},
     "output_type": "execute_result"
    },
    {
     "data": {
      "text/plain": [
       "Text(0.5, 1.0, 'BOS Payroll vs. Winning Percentage Over Seasons')"
      ]
     },
     "execution_count": 25,
     "metadata": {},
     "output_type": "execute_result"
    },
    {
     "data": {
      "image/png": "[encoded data removed]",
      "text/plain": [
       "<Figure size 1000x500 with 1 Axes>"
      ]
     },
     "metadata": {},
     "output_type": "display_data"
    }
   ],
   "source": [
    "BOS_payroll = {\n",
    "    'Team': ['BOS'],\n",
    "    '2022': [94130413],\n",
    "    '2021': [84501102],\n",
    "    '2020': [78198128],\n",
    "    '2019': [75754650],\n",
    "    '2018': [83377006]\n",
    "}\n",
    "\n",
    "BOS_Wpercent = {\n",
    "    'Team': ['BOS'],\n",
    "    '2022': [0.792682927],\n",
    "    '2021': [0.62195122],\n",
    "    '2020': [0.589285714],\n",
    "    '2019': [0.628571429],\n",
    "    '2018': [0.597560976]\n",
    "}\n",
    "\n",
    "df1 = pd.DataFrame(BOS_payroll)\n",
    "df2 = pd.DataFrame(BOS_Wpercent)\n",
    "\n",
    "df1.set_index('Team', inplace=True)\n",
    "df2.set_index('Team', inplace=True)\n",
    "\n",
    "df1 = df1.transpose()\n",
    "df2 = df2.transpose()\n",
    "\n",
    "df1.columns = ['Payroll']\n",
    "df2.columns = ['Wpercent']\n",
    "\n",
    "df = pd.merge(df1, df2, left_index=True, right_index=True)\n",
    "\n",
    "df = df.iloc[::-1]\n",
    "\n",
    "plt.figure(figsize=(10, 5))\n",
    "sns.scatterplot(data=df, x='Payroll', y='Wpercent', s=100)\n",
    "\n",
    "for i in range(len(df)):\n",
    "    plt.text(df['Payroll'][i], df['Wpercent'][i], df.index[i], fontsize=9, ha='right')\n",
    "\n",
    "plt.xlabel('BOS Payroll')\n",
    "plt.ylabel('BOS Winning Percentage')\n",
    "plt.title('BOS Payroll vs. Winning Percentage Over Seasons')\n",
    "\n",
    "plt.grid(True)\n",
    "plt.show()\n"
   ]
  }
 ],
 "metadata": {
  "kernelspec": {
   "display_name": "Python 3 (ipykernel)",
   "language": "python",
   "name": "python3"
  },
  "language_info": {
   "codemirror_mode": {
    "name": "ipython",
    "version": 3
   },
   "file_extension": ".py",
   "mimetype": "text/x-python",
   "name": "python",
   "nbconvert_exporter": "python",
   "pygments_lexer": "ipython3",
   "version": "3.11.5"
  }
 },
 "nbformat": 4,
 "nbformat_minor": 5
}
